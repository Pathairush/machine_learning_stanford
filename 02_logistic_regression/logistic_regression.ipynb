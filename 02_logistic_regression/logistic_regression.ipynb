{
 "cells": [
  {
   "cell_type": "markdown",
   "metadata": {},
   "source": [
    "# Logistic regression\n",
    "\n",
    "In this exercise, you will implement logistic regression and apply it to two different datasets. \n",
    "\n",
    "Before starting on the programming exercise, we strongly recommend watching the video lectures and completing the review questions for the associated topics."
   ]
  },
  {
   "cell_type": "code",
   "execution_count": 1,
   "metadata": {},
   "outputs": [],
   "source": [
    "import numpy as np\n",
    "import pandas as pd\n",
    "import matplotlib.pyplot as plt\n",
    "import seaborn as sns"
   ]
  },
  {
   "cell_type": "markdown",
   "metadata": {},
   "source": [
    "In this part of the exercise, you will build a logistic regression model to predict whether a student gets admitted into a university.\n",
    "\n",
    "Suppose that you are the administrator of a university department and you want to determine each applicant’s chance of admission based on their results on two exams. \n",
    "\n",
    "You have historical data from previous applicants that you can use as a training set for logistic regression. \n",
    "\n",
    "For each training example, you have the applicant’s scores on two exams and the admissions decision"
   ]
  },
  {
   "cell_type": "markdown",
   "metadata": {},
   "source": [
    "# Visualizing the data"
   ]
  },
  {
   "cell_type": "code",
   "execution_count": 2,
   "metadata": {},
   "outputs": [],
   "source": [
    "data = pd.read_csv('./ex2data1.txt', header=None, names=['exam1','exam2','is_admitted'])"
   ]
  },
  {
   "cell_type": "code",
   "execution_count": 3,
   "metadata": {},
   "outputs": [
    {
     "data": {
      "image/png": "[encoded data removed]",
      "text/plain": "<Figure size 432x288 with 1 Axes>"
     },
     "metadata": {
      "needs_background": "light"
     },
     "output_type": "display_data"
    }
   ],
   "source": [
    "fig, ax = plt.subplots()\n",
    "sns.scatterplot(x=data['exam1'], y=data['exam2'], hue=data['is_admitted'], style=data['is_admitted'], ax=ax, legend='brief');\n",
    "sns.despine();\n",
    "plt.xlabel('Exam1 score');\n",
    "plt.ylabel('Exam2 score');"
   ]
  },
  {
   "cell_type": "markdown",
   "metadata": {},
   "source": [
    "# Sigmoid function"
   ]
  },
  {
   "cell_type": "markdown",
   "metadata": {},
   "source": [
    "Before you start with the actual cost function, recall that the logistic regression hypothesis is defined as:\n",
    "\n",
    "h(x) = g(theta, x)\n",
    "\n",
    "where function g is the sigmoid function. The sigmoid function is defined as:\n",
    "\n",
    "g(z) = 1 / (1 + e^(-z))"
   ]
  },
  {
   "cell_type": "code",
   "execution_count": 4,
   "metadata": {},
   "outputs": [
    {
     "data": {
      "text/plain": "(0.5, 1.0, array([0.5       , 0.73105858, 1.        ]))"
     },
     "execution_count": 4,
     "metadata": {},
     "output_type": "execute_result"
    }
   ],
   "source": [
    "def sigmoid(x):\n",
    "    '''\n",
    "    compute the sigmoid value from the given x value, or array.\n",
    "    '''\n",
    "    return 1 / (1 + np.power(np.e, -x))\n",
    "\n",
    "sigmoid(0), sigmoid(1e10), sigmoid(np.array([0,1,1e10]))"
   ]
  },
  {
   "cell_type": "markdown",
   "metadata": {},
   "source": [
    "# Cost function and gradient\n",
    "\n",
    "Recall that the cost function in logistic regression is\n",
    "\n"
   ]
  },
  {
   "cell_type": "code",
   "execution_count": 5,
   "metadata": {},
   "outputs": [],
   "source": [
    "def compute_cost(t, x, y):\n",
    "\n",
    "    # preprocess - the shape of t has been changed in optimized function, so we need to enforce it here.\n",
    "    t = t.reshape((-1,1))\n",
    "    \n",
    "    h = sigmoid(np.matmul(x,t))\n",
    "    term1 = y * np.log(h)\n",
    "    term2 = (1-y) * np.log(1-h)\n",
    "    J = np.mean(-term1-term2)\n",
    "    return J\n",
    "\n",
    "def compute_grad(t, x, y):\n",
    "\n",
    "    # preprocess - the shape of t has been changed in optimized function, so we need to enforce it here.\n",
    "    t = t.reshape((-1,1))\n",
    "\n",
    "    h = sigmoid(np.matmul(x,t))\n",
    "    grad = np.mean((h-y)*x,axis=0)\n",
    "    \n",
    "    return grad.flatten()"
   ]
  },
  {
   "cell_type": "code",
   "execution_count": 6,
   "metadata": {},
   "outputs": [],
   "source": [
    "# process data\n",
    "n = len(data.columns) - 1\n",
    "m = len(data)\n",
    "x, y = np.array(data.iloc[:, 0:-1]).reshape(-1,n), np.array(data.iloc[:, -1]).reshape(-1,1)\n",
    "\n",
    "# add constant term\n",
    "x_const = np.concatenate((np.ones(m).reshape(-1,1), x), axis=1)\n",
    "x_const.shape, y.shape\n",
    "\n",
    "# initial\n",
    "t = np.zeros(n+1).reshape(-1,1)\n",
    "t.shape\n",
    "\n",
    "# test\n",
    "J = compute_cost(t, x_const, y)\n",
    "grad = compute_grad(t, x_const, y)\n",
    "assert round(J, 3) == 0.693\n",
    "assert all(np.round(grad, 4) == np.array([-0.1, -12.0092, -11.2628]))\n",
    "\n",
    "new_t = np.array([-24, .2, .2]).reshape(-1,1)\n",
    "J = compute_cost(new_t, x_const, y)\n",
    "grad = compute_grad(new_t, x_const, y)\n",
    "assert round(J, 3) == 0.218\n",
    "assert all(np.round(grad, 3) ==  np.array([0.043, 2.566, 2.647]))"
   ]
  },
  {
   "cell_type": "markdown",
   "metadata": {},
   "source": [
    "# Learning parameters using fminunc\n",
    "\n",
    "Instead of using `fminunc` in the octave, we will use the op.minimize from python `scipy` package instead.\n",
    "[Referece](https://stackoverflow.com/questions/18801002/fminunc-alternate-in-numpy)"
   ]
  },
  {
   "cell_type": "code",
   "execution_count": 7,
   "metadata": {},
   "outputs": [],
   "source": [
    "import scipy.optimize as op\n",
    "\n",
    "opt_t = op.minimize(fun = compute_cost, \n",
    "                                 x0 = t,\n",
    "                                 args = (x_const, y),\n",
    "                                 method = 'TNC',\n",
    "                                 jac = compute_grad).x\n",
    "\n",
    "assert round(compute_cost(opt_t, x_const, y), 3) == 0.203\n",
    "assert all(np.round(opt_t, 3) == np.array([-25.161, 0.206, 0.201]))"
   ]
  },
  {
   "cell_type": "markdown",
   "metadata": {},
   "source": [
    "After learning the parameters, you can use the model to predict whether a particular student will be admitted. \n",
    "\n",
    "For a student with an Exam 1 score of 45 and an Exam 2 score of 85, you should expect to see an admission probability of 0.776."
   ]
  },
  {
   "cell_type": "code",
   "execution_count": 8,
   "metadata": {},
   "outputs": [
    {
     "name": "stdout",
     "output_type": "stream",
     "text": [
      "The probability that the student who got exam1 45 points and exam2 85 points will be admitted is 77.63 %\n"
     ]
    }
   ],
   "source": [
    "new_x = np.array([1, 45, 85])\n",
    "pred = sigmoid(new_x.dot(opt_t))\n",
    "print(f'The probability that the student who got exam1 45 points and exam2 85 points will be admitted is {pred * 100:.2f} %')\n",
    "assert round(pred, 3) == 0.776"
   ]
  },
  {
   "cell_type": "code",
   "execution_count": 9,
   "metadata": {},
   "outputs": [
    {
     "name": "stdout",
     "output_type": "stream",
     "text": [
      "The training set accuracy is 89.0 %\n"
     ]
    }
   ],
   "source": [
    "p = sigmoid(np.matmul(x_const, opt_t))\n",
    "threshold = .5\n",
    "p = (p >= .5).astype(int).reshape(-1,1)\n",
    "acc = np.mean(p == y)\n",
    "print(f'The training set accuracy is {acc * 100} %')\n",
    "assert acc == 0.89"
   ]
  },
  {
   "cell_type": "markdown",
   "metadata": {},
   "source": [
    "# Evaluating logistic regression"
   ]
  },
  {
   "cell_type": "code",
   "execution_count": 10,
   "metadata": {},
   "outputs": [
    {
     "data": {
      "image/png": "[encoded data removed]",
      "text/plain": "<Figure size 432x288 with 1 Axes>"
     },
     "metadata": {
      "needs_background": "light"
     },
     "output_type": "display_data"
    }
   ],
   "source": [
    "# Scatter plot\n",
    "\n",
    "fig, ax = plt.subplots()\n",
    "sns.scatterplot(x=data['exam1'], y=data['exam2'], hue=data['is_admitted'], style=data['is_admitted'], ax=ax, legend='brief');\n",
    "sns.despine();\n",
    "plt.xlabel('Exam1 score');\n",
    "plt.ylabel('Exam2 score');\n",
    "\n",
    "# Add Decision boundary line\n",
    "\n",
    "axes = plt.gca()\n",
    "plt_x = np.array(axes.get_xlim())\n",
    "# we know that, on the x1, x2 planes, the value y is 0, thus\n",
    "# 0 = t(0) + t(1) * x1 + t(2) * x2\n",
    "# we need to find x2; thus, we get \n",
    "# x2 = (- t(0) - t(1) * x1) / t(2)\n",
    "# x2 = - (t(0) + t(1) * x1) / t(2)\n",
    "plt_y = -(opt_t[0] + opt_t[1] * plt_x) / opt_t[2]\n",
    "plt.plot(plt_x, plt_y, '--', c='red');\n",
    "plt.xlim(30,100);\n",
    "plt.ylim(30,100);"
   ]
  }
 ],
 "metadata": {
  "kernelspec": {
   "display_name": "Python 3.9.2 64-bit ('capstone': conda)",
   "name": "python392jvsc74a57bd0269dae9ce3b09b7952584d18ea9fd4138bbcafd8c8fc1fcfe035a0168768627d"
  },
  "language_info": {
   "codemirror_mode": {
    "name": "ipython",
    "version": 3
   },
   "file_extension": ".py",
   "mimetype": "text/x-python",
   "name": "python",
   "nbconvert_exporter": "python",
   "pygments_lexer": "ipython3",
   "version": "3.9.2"
  },
  "metadata": {
   "interpreter": {
    "hash": "269dae9ce3b09b7952584d18ea9fd4138bbcafd8c8fc1fcfe035a0168768627d"
   }
  },
  "orig_nbformat": 2
 },
 "nbformat": 4,
 "nbformat_minor": 2
}